{
 "cells": [
  {
   "cell_type": "markdown",
   "metadata": {},
   "source": [
    "# Using just the last output of LSTM per sequence\n",
    "\n",
    "Lets imagine you want to classify sequences. Sometimes it might not make sense to classify on each element of the sequence, so you need to use just the last output (or the last N outputs) of your LSTM.\n",
    "\n",
    "Lets generate some sequences that we might care about. You can choose the example you want by selecting the proper index to `EXAMPLE` below."
   ]
  },
  {
   "cell_type": "code",
   "execution_count": 1,
   "metadata": {},
   "outputs": [
    {
     "name": "stdout",
     "output_type": "stream",
     "text": [
      "Running the lang example\n",
      "We have 7566 samples\n"
     ]
    }
   ],
   "source": [
    "from __future__ import print_function\n",
    "import mxnet as mx\n",
    "import numpy as np\n",
    "from mxnet import nd, autograd, sym\n",
    "from mxnet import gluon\n",
    "\n",
    "EXAMPLE = ['simple', 'long-term-test', 'hard', 'lang'][3]\n",
    "print('Running the', EXAMPLE, 'example')\n",
    "\n",
    "if EXAMPLE == 'simple':\n",
    "    X, y = list(zip(*[(label*np.ones((np.random.randint(low=5, high=100),)), label)\n",
    "                      for label in np.random.choice(range(3), size=1000)]))\n",
    "elif EXAMPLE == 'long-term-test':\n",
    "    X, y = list(zip(*[(1.0*(np.arange(np.random.randint(low=5, high=100)) <= label), label)\n",
    "                      for label in np.random.choice(range(3), size=1000)]))\n",
    "elif EXAMPLE == 'hard':\n",
    "    X, y = list(zip(*[(1.0*(np.random.random((np.random.randint(low=5, high=100),)) > 1.0/(label+2.0)), label)\n",
    "                      for label in np.random.choice(range(3), size=1000)]))\n",
    "elif EXAMPLE == 'lang':\n",
    "    import requests, re\n",
    "    novels = [\n",
    "        (0, 'http://www.gutenberg.org/cache/epub/2000/pg2000.txt'), # Spanish\n",
    "        (1, 'https://www.gutenberg.org/files/46787/46787-0.txt'), # English\n",
    "    ]\n",
    "    \n",
    "    def sentences(novel, min_len=30, max_len=300):\n",
    "        for s in re.sub(r'\\s+', ' ', requests.get(novel).text).split('.')[20:-20]:\n",
    "            if len(s) > min_len and len(s) < max_len:\n",
    "                yield s\n",
    "    \n",
    "    # Run through all the novels and grab all the sentences in the books and grab all the sentences\n",
    "    X, y = list(zip(*[(np.array([ord(c) for c in s])/255.0, lang)\n",
    "                      for lang, novel in novels\n",
    "                      for s in sentences(novel)]))\n",
    "print('We have', len(X), 'samples')"
   ]
  },
  {
   "cell_type": "markdown",
   "metadata": {},
   "source": [
    "Lets plot a couple of these sequences to understand what they look like,"
   ]
  },
  {
   "cell_type": "code",
   "execution_count": 2,
   "metadata": {},
   "outputs": [
    {
     "data": {
      "image/png": "[encoded data removed]",
      "text/plain": [
       "<matplotlib.figure.Figure at 0x10adfb710>"
      ]
     },
     "metadata": {},
     "output_type": "display_data"
    }
   ],
   "source": [
    "import matplotlib.pyplot as plt\n",
    "\n",
    "for i, x in enumerate(X[:4]):\n",
    "    plt.plot(x + 2*i, 'o')\n",
    "\n",
    "plt.legend(y[:4])\n",
    "plt.show()"
   ]
  },
  {
   "cell_type": "markdown",
   "metadata": {},
   "source": [
    "The basic idea is that some sequences have more \"ups\" than \"downs\" and each sequence is a different length. We'd like to be able to classify each sequence into the percent of ups to downs.\n",
    "\n",
    "Lets define a new kind of network."
   ]
  },
  {
   "cell_type": "code",
   "execution_count": 3,
   "metadata": {},
   "outputs": [],
   "source": [
    "class LastNet(gluon.Block):\n",
    "    def __init__(self, recurrent_width, forward_width, **kwargs):\n",
    "        super(LastNet, self).__init__(**kwargs)\n",
    "        with self.name_scope():\n",
    "            self._rnn = gluon.rnn.LSTM(recurrent_width)\n",
    "            self._nn  = gluon.nn.Dense(forward_width)\n",
    "\n",
    "    def forward(self, x):\n",
    "        h = self._rnn(x)\n",
    "        return self._nn(h[h.shape[0]-1])"
   ]
  },
  {
   "cell_type": "markdown",
   "metadata": {},
   "source": [
    "It is important to check that the gradients will get computed properly. I was skeptical, so I wrote this quick test that constructs an arbitrary sequence, pushes it through an LSTM, and then computes the loss using only the last output."
   ]
  },
  {
   "cell_type": "code",
   "execution_count": 4,
   "metadata": {
    "scrolled": true
   },
   "outputs": [
    {
     "name": "stdout",
     "output_type": "stream",
     "text": [
      "Gradient using only last output for sequence length 1 \n",
      "\tlstm0_l0_i2h_weight:[-0.03023597  0.         -3.27786589 -0.028655  ] \n",
      "\tlstm0_l0_h2h_weight:[ 0.  0.  0.  0.] \n",
      "\tlstm0_l0_i2h_bias:[-0.01007866 -0.         -1.09262192 -0.00955167] \n",
      "\tlstm0_l0_h2h_bias:[-0.01007866 -0.         -1.09262192 -0.00955167] \n",
      "\n",
      "\n",
      "Gradient using only last output for sequence length 2 \n",
      "\tlstm1_l0_i2h_weight:[-0.31645533 -0.10482672 -3.71678162 -0.34464899] \n",
      "\tlstm1_l0_h2h_weight:[-0.0025947  -0.00127264 -0.03042663 -0.00417328] \n",
      "\tlstm1_l0_i2h_bias:[-0.10548511 -0.03494224 -1.23892713 -0.114883  ] \n",
      "\tlstm1_l0_h2h_bias:[-0.10548511 -0.03494224 -1.23892713 -0.114883  ] \n",
      "\n",
      "\n"
     ]
    }
   ],
   "source": [
    "for length in [1, 2]:\n",
    "    x = nd.array([3]*length).reshape((-1, 1, 1))\n",
    "\n",
    "    layer = gluon.rnn.LSTM(1)\n",
    "    layer.initialize()\n",
    "    with autograd.record():\n",
    "        out = layer(x)\n",
    "        loss = nd.mean((out[out.shape[0]-1] - 2)**2)\n",
    "    loss.backward()\n",
    "\n",
    "    print('Gradient using only last output for sequence length', length, \n",
    "          *['\\n\\t%s:%s' % (name, p.grad().asnumpy().flatten()) for name, p in layer.params.items()], '\\n\\n')"
   ]
  },
  {
   "cell_type": "markdown",
   "metadata": {},
   "source": [
    "Note that the hidden to hidden weights (ie. `h2h_weight`) only have a gradient when the sequence is length 2 or more. So I feel comfortable assuming that the gradients are computed properly.\n",
    "\n",
    "Initialize the parameters,"
   ]
  },
  {
   "cell_type": "code",
   "execution_count": 5,
   "metadata": {},
   "outputs": [],
   "source": [
    "if EXAMPLE == 'hard':\n",
    "    BATCH_SIZE=20\n",
    "    EPOCHS=100\n",
    "elif EXAMPLE == 'lang':\n",
    "    # This might have a hard time converging\n",
    "    # in only 10 epochs, but when I ran with 50,\n",
    "    # the loss plot showed that roughly 10 would have worked fine\n",
    "    BATCH_SIZE=20\n",
    "    EPOCHS=10\n",
    "else:\n",
    "    BATCH_SIZE=20\n",
    "    EPOCHS=20\n",
    "\n",
    "ctx = mx.cpu()\n",
    "\n",
    "net = LastNet(100, 3)\n",
    "net.collect_params().initialize(mx.init.Xavier(), ctx=ctx)\n",
    "softmax_cross_entropy = gluon.loss.SoftmaxCrossEntropyLoss()\n",
    "\n",
    "trainer = gluon.Trainer(net.collect_params(), 'adam', {'learning_rate': .1})"
   ]
  },
  {
   "cell_type": "markdown",
   "metadata": {},
   "source": [
    "And train,"
   ]
  },
  {
   "cell_type": "code",
   "execution_count": 6,
   "metadata": {
    "scrolled": false
   },
   "outputs": [
    {
     "data": {
      "image/png": "[encoded data removed]",
      "text/plain": [
       "<matplotlib.figure.Figure at 0x119333e10>"
      ]
     },
     "metadata": {},
     "output_type": "display_data"
    }
   ],
   "source": [
    "losses = []\n",
    "for epoch in range(EPOCHS):\n",
    "    for batch in np.random.choice(len(X), size=(int(len(X)/BATCH_SIZE), BATCH_SIZE)):\n",
    "        with autograd.record():\n",
    "            loss = sum(softmax_cross_entropy(net(nd.array(X[i]).reshape(shape=(-1, 1, 1))),\n",
    "                                             nd.array([y[i]]).reshape((-1, 1)))\n",
    "                       for i in batch)\n",
    "        loss.backward()\n",
    "        trainer.step(BATCH_SIZE)\n",
    "        losses.append(loss.asscalar())\n",
    "plt.plot(losses)\n",
    "plt.show()"
   ]
  },
  {
   "cell_type": "markdown",
   "metadata": {},
   "source": [
    "Quick demo that it actually learned something,"
   ]
  },
  {
   "cell_type": "code",
   "execution_count": 7,
   "metadata": {},
   "outputs": [
    {
     "data": {
      "text/plain": [
       "array([[5480,    0],\n",
       "       [ 971, 1115]])"
      ]
     },
     "execution_count": 7,
     "metadata": {},
     "output_type": "execute_result"
    }
   ],
   "source": [
    "from sklearn.metrics import confusion_matrix\n",
    "\n",
    "y_pred = [nd.softmax(net(nd.array(x).reshape((-1, 1, 1))), axis=1).asnumpy().flatten().argmax() for x in X]\n",
    "confusion_matrix(y, y_pred)"
   ]
  },
  {
   "cell_type": "markdown",
   "metadata": {},
   "source": [
    "For the language example, lets try testing on a set of sentences the RNN hasn't seen."
   ]
  },
  {
   "cell_type": "code",
   "execution_count": 10,
   "metadata": {},
   "outputs": [
    {
     "name": "stdout",
     "output_type": "stream",
     "text": [
      "[[417   0]\n",
      " [224 165]]\n"
     ]
    }
   ],
   "source": [
    "if EXAMPLE == 'lang':\n",
    "    import requests, re\n",
    "    novels = [\n",
    "        (0, 'http://www.gutenberg.org/cache/epub/10822/pg10822.txt'), # Spanish\n",
    "        (1, 'https://www.gutenberg.org/files/1342/1342-0.txt'), # English\n",
    "    ]\n",
    "    \n",
    "    def sentences(novel, min_len=30, max_len=300):\n",
    "        for s in re.sub(r'\\s+', ' ', requests.get(novel).text).split('.')[20:520]:\n",
    "            if len(s) > min_len and len(s) < max_len:\n",
    "                yield s\n",
    "    \n",
    "    # Run through all the novels and grab all the sentences in the books and grab all the sentences\n",
    "    X, y = list(zip(*[(np.array([ord(c) for c in s])/255.0, lang)\n",
    "                      for lang, novel in novels\n",
    "                      for s in sentences(novel)]))\n",
    "    y_pred = [nd.softmax(net(nd.array(x).reshape((-1, 1, 1))), axis=1).asnumpy().flatten().argmax() for x in X]\n",
    "    print(confusion_matrix(y, y_pred))"
   ]
  },
  {
   "cell_type": "markdown",
   "metadata": {},
   "source": [
    "It appears to have converged pretty well, except that the strong training bias towards Spanish sentences is apparent."
   ]
  }
 ],
 "metadata": {
  "kernelspec": {
   "display_name": "Python 3",
   "language": "python",
   "name": "python3"
  },
  "language_info": {
   "codemirror_mode": {
    "name": "ipython",
    "version": 3
   },
   "file_extension": ".py",
   "mimetype": "text/x-python",
   "name": "python",
   "nbconvert_exporter": "python",
   "pygments_lexer": "ipython3",
   "version": "3.6.3"
  }
 },
 "nbformat": 4,
 "nbformat_minor": 2
}
